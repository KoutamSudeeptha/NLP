{
  "nbformat": 4,
  "nbformat_minor": 0,
  "metadata": {
    "colab": {
      "name": "Untitled8.ipynb",
      "provenance": [],
      "authorship_tag": "ABX9TyNEElHbVYa78deZo+JA513y",
      "include_colab_link": true
    },
    "kernelspec": {
      "name": "python3",
      "display_name": "Python 3"
    },
    "language_info": {
      "name": "python"
    }
  },
  "cells": [
    {
      "cell_type": "markdown",
      "metadata": {
        "id": "view-in-github",
        "colab_type": "text"
      },
      "source": [
        "<a href=\"https://colab.research.google.com/github/KoutamSudeeptha/NLP/blob/main/Untitled8.ipynb\" target=\"_parent\"><img src=\"https://colab.research.google.com/assets/colab-badge.svg\" alt=\"Open In Colab\"/></a>"
      ]
    },
    {
      "cell_type": "code",
      "execution_count": null,
      "metadata": {
        "id": "Oyel7nhca_L9"
      },
      "outputs": [],
      "source": [
        "\n",
        "Docs12 = ['Text Simplification is the task of reducing the complexity of the vocabulary and sentence  structure  of  text  while  retaining  its  original  meaning,  with  the  goal  of improving readability and understanding.',\n",
        "'Sentiment Analysis is the process of determining whether a piece of writing is positive,  negative']"
      ]
    },
    {
      "cell_type": "code",
      "source": [
        "\n",
        "from sklearn.feature_extraction.text import TfidfVectorizer\n",
        "from sklearn.metrics.pairwise import cosine_similarity\n",
        "\n",
        "# Initialize an instance of tf-idf Vectorizer\n",
        "tfidf_vectorizer = TfidfVectorizer()\n",
        "\n",
        "# Generate the tf-idf vectors for the Documents 1 & 2, print the shape of the matrix and their cosine similarities\n",
        "tfidf_matrix12 = tfidf_vectorizer.fit_transform(Docs12)\n",
        "print(\"TF-IDF Matrix Shape for DOC 1 & 2 : \", tfidf_matrix12.shape)\n",
        "cosine_sim12 = cosine_similarity(tfidf_matrix12, tfidf_matrix12)\n",
        "print(\"Cosine Similarity Matrix Between Documents 1 & 2 : \")\n",
        "print(cosine_sim12)"
      ],
      "metadata": {
        "id": "UqATqrAebBlC",
        "outputId": "288224f0-6a45-45a4-b97a-0bb8525e1bfa",
        "colab": {
          "base_uri": "https://localhost:8080/"
        }
      },
      "execution_count": 3,
      "outputs": [
        {
          "output_type": "stream",
          "name": "stdout",
          "text": [
            "TF-IDF Matrix Shape for DOC 1 & 2 :  (2, 31)\n",
            "Cosine Similarity Matrix Between Documents 1 & 2 : \n",
            "[[1.         0.29807081]\n",
            " [0.29807081 1.        ]]\n"
          ]
        }
      ]
    }
  ]
}